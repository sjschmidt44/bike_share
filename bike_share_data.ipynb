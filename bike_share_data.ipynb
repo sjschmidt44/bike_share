{
 "cells": [
  {
   "cell_type": "markdown",
   "metadata": {},
   "source": [
    "# Question 1: Average Temp by Season\n",
    "\n",
    "###Compute the average temperature by season ('season_desc'). (The temperatures are numbers between 0 and 1, but don't worry about that. Let's say that's the Shellman temperature scale.)"
   ]
  },
  {
   "cell_type": "code",
   "execution_count": 44,
   "metadata": {
    "collapsed": true
   },
   "outputs": [],
   "source": [
    "from pandas import Series, DataFrame"
   ]
  },
  {
   "cell_type": "code",
   "execution_count": 45,
   "metadata": {
    "collapsed": true
   },
   "outputs": [],
   "source": [
    "import pandas as pd"
   ]
  },
  {
   "cell_type": "code",
   "execution_count": 46,
   "metadata": {
    "collapsed": true
   },
   "outputs": [],
   "source": [
    "import numpy as np"
   ]
  },
  {
   "cell_type": "code",
   "execution_count": 47,
   "metadata": {
    "collapsed": true
   },
   "outputs": [],
   "source": [
    "weather = pd.read_table('daily_weather.tsv')"
   ]
  },
  {
   "cell_type": "code",
   "execution_count": 48,
   "metadata": {
    "collapsed": true
   },
   "outputs": [],
   "source": [
    "stations = pd.read_table('stations.tsv')"
   ]
  },
  {
   "cell_type": "code",
   "execution_count": 49,
   "metadata": {
    "collapsed": true
   },
   "outputs": [],
   "source": [
    "usage = pd.read_table('usage_2012.tsv')"
   ]
  },
  {
   "cell_type": "code",
   "execution_count": 50,
   "metadata": {
    "collapsed": true
   },
   "outputs": [],
   "source": [
    "newseasons = {'Summer': 'Spring', 'Spring': 'Winter', 'Fall': 'Summer', 'Winter': 'Fall'}"
   ]
  },
  {
   "cell_type": "code",
   "execution_count": 51,
   "metadata": {
    "collapsed": true
   },
   "outputs": [],
   "source": [
    "weather['season_desc'] = weather['season_desc'].map(newseasons)"
   ]
  },
  {
   "cell_type": "code",
   "execution_count": 52,
   "metadata": {
    "collapsed": false
   },
   "outputs": [
    {
     "data": {
      "text/plain": [
       "season_desc\n",
       "Fall      0.419368\n",
       "Spring    0.554557\n",
       "Summer    0.711445\n",
       "Winter    0.321700\n",
       "Name: temp, dtype: float64"
      ]
     },
     "execution_count": 52,
     "metadata": {},
     "output_type": "execute_result"
    }
   ],
   "source": [
    "pd.pivot_table(weather, 'temp', 'season_desc', aggfunc=np.average)"
   ]
  },
  {
   "cell_type": "markdown",
   "metadata": {
    "collapsed": true
   },
   "source": [
    "#Question 2: Number of Rentals by Month\n",
    "\n",
    "###Various of the columns represent dates or datetimes, but out of the box pd.read_table won't treat them correctly. This makes it hard to (for example) compute the number of rentals by month. Fix the dates and compute the number of rentals by month."
   ]
  },
  {
   "cell_type": "code",
   "execution_count": 53,
   "metadata": {
    "collapsed": false
   },
   "outputs": [],
   "source": [
    "weather['Month'] = pd.DatetimeIndex(weather.date).month"
   ]
  },
  {
   "cell_type": "code",
   "execution_count": 54,
   "metadata": {
    "collapsed": false
   },
   "outputs": [
    {
     "data": {
      "text/plain": [
       "Month\n",
       "1      96744\n",
       "2     103137\n",
       "3     164875\n",
       "4     174224\n",
       "5     195865\n",
       "6     202830\n",
       "7     203607\n",
       "8     214503\n",
       "9     218573\n",
       "10    198841\n",
       "11    152664\n",
       "12    123713\n",
       "Name: total_riders, dtype: int64"
      ]
     },
     "execution_count": 54,
     "metadata": {},
     "output_type": "execute_result"
    }
   ],
   "source": [
    "pd.pivot_table(weather, 'total_riders', 'Month', aggfunc=np.sum)"
   ]
  },
  {
   "cell_type": "markdown",
   "metadata": {},
   "source": [
    "#Question 3: Rental Variance by Temperature\n",
    "\n",
    "###Investigate how the number of rentals varies with temperature. Is this trend constant across seasons? Across months?"
   ]
  },
  {
   "cell_type": "code",
   "execution_count": 71,
   "metadata": {
    "collapsed": false
   },
   "outputs": [
    {
     "data": {
      "text/html": [
       "<div>\n",
       "<table border=\"1\" class=\"dataframe\">\n",
       "  <thead>\n",
       "    <tr style=\"text-align: right;\">\n",
       "      <th></th>\n",
       "      <th>temp</th>\n",
       "      <th>total_riders</th>\n",
       "    </tr>\n",
       "  </thead>\n",
       "  <tbody>\n",
       "    <tr>\n",
       "      <th>temp</th>\n",
       "      <td>1.000000</td>\n",
       "      <td>0.713793</td>\n",
       "    </tr>\n",
       "    <tr>\n",
       "      <th>total_riders</th>\n",
       "      <td>0.713793</td>\n",
       "      <td>1.000000</td>\n",
       "    </tr>\n",
       "  </tbody>\n",
       "</table>\n",
       "</div>"
      ],
      "text/plain": [
       "                  temp  total_riders\n",
       "temp          1.000000      0.713793\n",
       "total_riders  0.713793      1.000000"
      ]
     },
     "execution_count": 71,
     "metadata": {},
     "output_type": "execute_result"
    }
   ],
   "source": [
    "pd.concat([weather['temp'], weather['total_riders']], axis=1).corr()"
   ]
  },
  {
   "cell_type": "code",
   "execution_count": 73,
   "metadata": {
    "collapsed": false
   },
   "outputs": [
    {
     "data": {
      "text/html": [
       "<div>\n",
       "<table border=\"1\" class=\"dataframe\">\n",
       "  <thead>\n",
       "    <tr style=\"text-align: right;\">\n",
       "      <th></th>\n",
       "      <th>Month</th>\n",
       "      <th>total_riders</th>\n",
       "    </tr>\n",
       "  </thead>\n",
       "  <tbody>\n",
       "    <tr>\n",
       "      <th>Month</th>\n",
       "      <td>1.000000</td>\n",
       "      <td>0.266502</td>\n",
       "    </tr>\n",
       "    <tr>\n",
       "      <th>total_riders</th>\n",
       "      <td>0.266502</td>\n",
       "      <td>1.000000</td>\n",
       "    </tr>\n",
       "  </tbody>\n",
       "</table>\n",
       "</div>"
      ],
      "text/plain": [
       "                 Month  total_riders\n",
       "Month         1.000000      0.266502\n",
       "total_riders  0.266502      1.000000"
      ]
     },
     "execution_count": 73,
     "metadata": {},
     "output_type": "execute_result"
    }
   ],
   "source": [
    "pd.concat([weather['Month'], weather['total_riders']], axis=1).corr()"
   ]
  },
  {
   "cell_type": "markdown",
   "metadata": {},
   "source": [
    "#Question 4: User Data\n",
    "\n",
    "###There are various types of users in the usage data sets. What sorts of things can you say about how they use the bikes differently?"
   ]
  },
  {
   "cell_type": "code",
   "execution_count": 74,
   "metadata": {
    "collapsed": false
   },
   "outputs": [
    {
     "data": {
      "text/html": [
       "<div>\n",
       "<table border=\"1\" class=\"dataframe\">\n",
       "  <thead>\n",
       "    <tr style=\"text-align: right;\">\n",
       "      <th></th>\n",
       "      <th>date</th>\n",
       "      <th>weekday</th>\n",
       "      <th>season_code</th>\n",
       "      <th>season_desc</th>\n",
       "      <th>is_holiday</th>\n",
       "      <th>is_work_day</th>\n",
       "      <th>weather_code</th>\n",
       "      <th>weather_desc</th>\n",
       "      <th>temp</th>\n",
       "      <th>subjective_temp</th>\n",
       "      <th>humidity</th>\n",
       "      <th>windspeed</th>\n",
       "      <th>no_casual_riders</th>\n",
       "      <th>no_reg_riders</th>\n",
       "      <th>total_riders</th>\n",
       "      <th>Month</th>\n",
       "    </tr>\n",
       "  </thead>\n",
       "  <tbody>\n",
       "    <tr>\n",
       "      <th>0</th>\n",
       "      <td>2012-01-01</td>\n",
       "      <td>0</td>\n",
       "      <td>1</td>\n",
       "      <td>Winter</td>\n",
       "      <td>0</td>\n",
       "      <td>0</td>\n",
       "      <td>1</td>\n",
       "      <td>Clear, Few clouds, Partly cloudy, Partly cloudy</td>\n",
       "      <td>0.370000</td>\n",
       "      <td>0.375621</td>\n",
       "      <td>0.692500</td>\n",
       "      <td>0.192167</td>\n",
       "      <td>686</td>\n",
       "      <td>1608</td>\n",
       "      <td>2294</td>\n",
       "      <td>1</td>\n",
       "    </tr>\n",
       "    <tr>\n",
       "      <th>1</th>\n",
       "      <td>2012-01-02</td>\n",
       "      <td>1</td>\n",
       "      <td>1</td>\n",
       "      <td>Winter</td>\n",
       "      <td>1</td>\n",
       "      <td>0</td>\n",
       "      <td>1</td>\n",
       "      <td>Clear, Few clouds, Partly cloudy, Partly cloudy</td>\n",
       "      <td>0.273043</td>\n",
       "      <td>0.252304</td>\n",
       "      <td>0.381304</td>\n",
       "      <td>0.329665</td>\n",
       "      <td>244</td>\n",
       "      <td>1707</td>\n",
       "      <td>1951</td>\n",
       "      <td>1</td>\n",
       "    </tr>\n",
       "    <tr>\n",
       "      <th>2</th>\n",
       "      <td>2012-01-03</td>\n",
       "      <td>2</td>\n",
       "      <td>1</td>\n",
       "      <td>Winter</td>\n",
       "      <td>0</td>\n",
       "      <td>1</td>\n",
       "      <td>1</td>\n",
       "      <td>Clear, Few clouds, Partly cloudy, Partly cloudy</td>\n",
       "      <td>0.150000</td>\n",
       "      <td>0.126275</td>\n",
       "      <td>0.441250</td>\n",
       "      <td>0.365671</td>\n",
       "      <td>89</td>\n",
       "      <td>2147</td>\n",
       "      <td>2236</td>\n",
       "      <td>1</td>\n",
       "    </tr>\n",
       "    <tr>\n",
       "      <th>3</th>\n",
       "      <td>2012-01-04</td>\n",
       "      <td>3</td>\n",
       "      <td>1</td>\n",
       "      <td>Winter</td>\n",
       "      <td>0</td>\n",
       "      <td>1</td>\n",
       "      <td>2</td>\n",
       "      <td>Mist + Cloudy, Mist + Broken clouds, Mist + Fe...</td>\n",
       "      <td>0.107500</td>\n",
       "      <td>0.119337</td>\n",
       "      <td>0.414583</td>\n",
       "      <td>0.184700</td>\n",
       "      <td>95</td>\n",
       "      <td>2273</td>\n",
       "      <td>2368</td>\n",
       "      <td>1</td>\n",
       "    </tr>\n",
       "    <tr>\n",
       "      <th>4</th>\n",
       "      <td>2012-01-05</td>\n",
       "      <td>4</td>\n",
       "      <td>1</td>\n",
       "      <td>Winter</td>\n",
       "      <td>0</td>\n",
       "      <td>1</td>\n",
       "      <td>1</td>\n",
       "      <td>Clear, Few clouds, Partly cloudy, Partly cloudy</td>\n",
       "      <td>0.265833</td>\n",
       "      <td>0.278412</td>\n",
       "      <td>0.524167</td>\n",
       "      <td>0.129987</td>\n",
       "      <td>140</td>\n",
       "      <td>3132</td>\n",
       "      <td>3272</td>\n",
       "      <td>1</td>\n",
       "    </tr>\n",
       "  </tbody>\n",
       "</table>\n",
       "</div>"
      ],
      "text/plain": [
       "         date  weekday  season_code season_desc  is_holiday  is_work_day  \\\n",
       "0  2012-01-01        0            1      Winter           0            0   \n",
       "1  2012-01-02        1            1      Winter           1            0   \n",
       "2  2012-01-03        2            1      Winter           0            1   \n",
       "3  2012-01-04        3            1      Winter           0            1   \n",
       "4  2012-01-05        4            1      Winter           0            1   \n",
       "\n",
       "   weather_code                                       weather_desc      temp  \\\n",
       "0             1    Clear, Few clouds, Partly cloudy, Partly cloudy  0.370000   \n",
       "1             1    Clear, Few clouds, Partly cloudy, Partly cloudy  0.273043   \n",
       "2             1    Clear, Few clouds, Partly cloudy, Partly cloudy  0.150000   \n",
       "3             2  Mist + Cloudy, Mist + Broken clouds, Mist + Fe...  0.107500   \n",
       "4             1    Clear, Few clouds, Partly cloudy, Partly cloudy  0.265833   \n",
       "\n",
       "   subjective_temp  humidity  windspeed  no_casual_riders  no_reg_riders  \\\n",
       "0         0.375621  0.692500   0.192167               686           1608   \n",
       "1         0.252304  0.381304   0.329665               244           1707   \n",
       "2         0.126275  0.441250   0.365671                89           2147   \n",
       "3         0.119337  0.414583   0.184700                95           2273   \n",
       "4         0.278412  0.524167   0.129987               140           3132   \n",
       "\n",
       "   total_riders  Month  \n",
       "0          2294      1  \n",
       "1          1951      1  \n",
       "2          2236      1  \n",
       "3          2368      1  \n",
       "4          3272      1  "
      ]
     },
     "execution_count": 74,
     "metadata": {},
     "output_type": "execute_result"
    }
   ],
   "source": [
    "weather.head()"
   ]
  },
  {
   "cell_type": "code",
   "execution_count": null,
   "metadata": {
    "collapsed": true
   },
   "outputs": [],
   "source": []
  },
  {
   "cell_type": "code",
   "execution_count": 78,
   "metadata": {
    "collapsed": false
   },
   "outputs": [
    {
     "data": {
      "text/html": [
       "<div>\n",
       "<table border=\"1\" class=\"dataframe\">\n",
       "  <thead>\n",
       "    <tr style=\"text-align: right;\">\n",
       "      <th></th>\n",
       "      <th>Temp</th>\n",
       "      <th>Regulars</th>\n",
       "      <th>Casuals</th>\n",
       "    </tr>\n",
       "  </thead>\n",
       "  <tbody>\n",
       "    <tr>\n",
       "      <th>Temp</th>\n",
       "      <td>1.000000</td>\n",
       "      <td>0.542253</td>\n",
       "      <td>0.607425</td>\n",
       "    </tr>\n",
       "    <tr>\n",
       "      <th>Regulars</th>\n",
       "      <td>0.542253</td>\n",
       "      <td>1.000000</td>\n",
       "      <td>0.274984</td>\n",
       "    </tr>\n",
       "    <tr>\n",
       "      <th>Casuals</th>\n",
       "      <td>0.607425</td>\n",
       "      <td>0.274984</td>\n",
       "      <td>1.000000</td>\n",
       "    </tr>\n",
       "  </tbody>\n",
       "</table>\n",
       "</div>"
      ],
      "text/plain": [
       "              Temp  Regulars   Casuals\n",
       "Temp      1.000000  0.542253  0.607425\n",
       "Regulars  0.542253  1.000000  0.274984\n",
       "Casuals   0.607425  0.274984  1.000000"
      ]
     },
     "execution_count": 78,
     "metadata": {},
     "output_type": "execute_result"
    }
   ],
   "source": [
    "pd.concat([weather['temp'], weather['no_casual_riders'], weather['no_reg_riders']], axis=1, keys=['Temp', 'Non-Regulars', 'Regulars']).corr()"
   ]
  },
  {
   "cell_type": "markdown",
   "metadata": {},
   "source": [
    "###As the temp is higher, Regulars are more likely to ride."
   ]
  },
  {
   "cell_type": "code",
   "execution_count": 80,
   "metadata": {
    "collapsed": false
   },
   "outputs": [
    {
     "data": {
      "text/html": [
       "<div>\n",
       "<table border=\"1\" class=\"dataframe\">\n",
       "  <thead>\n",
       "    <tr style=\"text-align: right;\">\n",
       "      <th></th>\n",
       "      <th>Is_Workday</th>\n",
       "      <th>Non-Regulars</th>\n",
       "      <th>Regulars</th>\n",
       "    </tr>\n",
       "  </thead>\n",
       "  <tbody>\n",
       "    <tr>\n",
       "      <th>Is_Workday</th>\n",
       "      <td>1.000000</td>\n",
       "      <td>-0.539919</td>\n",
       "      <td>0.437003</td>\n",
       "    </tr>\n",
       "    <tr>\n",
       "      <th>Non-Regulars</th>\n",
       "      <td>-0.539919</td>\n",
       "      <td>1.000000</td>\n",
       "      <td>0.274984</td>\n",
       "    </tr>\n",
       "    <tr>\n",
       "      <th>Regulars</th>\n",
       "      <td>0.437003</td>\n",
       "      <td>0.274984</td>\n",
       "      <td>1.000000</td>\n",
       "    </tr>\n",
       "  </tbody>\n",
       "</table>\n",
       "</div>"
      ],
      "text/plain": [
       "              Is_Workday  Non-Regulars  Regulars\n",
       "Is_Workday      1.000000     -0.539919  0.437003\n",
       "Non-Regulars   -0.539919      1.000000  0.274984\n",
       "Regulars        0.437003      0.274984  1.000000"
      ]
     },
     "execution_count": 80,
     "metadata": {},
     "output_type": "execute_result"
    }
   ],
   "source": [
    "pd.concat([weather['is_work_day'], weather['no_casual_riders'], weather['no_reg_riders']], axis=1, keys=['Is_Workday', 'Non-Regulars', 'Regulars']).corr()"
   ]
  },
  {
   "cell_type": "markdown",
   "metadata": {},
   "source": [
    "###Regulars have a much higher usage rate on Working Days."
   ]
  },
  {
   "cell_type": "code",
   "execution_count": 83,
   "metadata": {
    "collapsed": false
   },
   "outputs": [
    {
     "data": {
      "text/html": [
       "<div>\n",
       "<table border=\"1\" class=\"dataframe\">\n",
       "  <thead>\n",
       "    <tr style=\"text-align: right;\">\n",
       "      <th></th>\n",
       "      <th>Is_Holiday</th>\n",
       "      <th>Non-Regulars</th>\n",
       "      <th>Regulars</th>\n",
       "    </tr>\n",
       "  </thead>\n",
       "  <tbody>\n",
       "    <tr>\n",
       "      <th>Is_Holiday</th>\n",
       "      <td>1.00000</td>\n",
       "      <td>0.029720</td>\n",
       "      <td>-0.164190</td>\n",
       "    </tr>\n",
       "    <tr>\n",
       "      <th>Non-Regulars</th>\n",
       "      <td>0.02972</td>\n",
       "      <td>1.000000</td>\n",
       "      <td>0.274984</td>\n",
       "    </tr>\n",
       "    <tr>\n",
       "      <th>Regulars</th>\n",
       "      <td>-0.16419</td>\n",
       "      <td>0.274984</td>\n",
       "      <td>1.000000</td>\n",
       "    </tr>\n",
       "  </tbody>\n",
       "</table>\n",
       "</div>"
      ],
      "text/plain": [
       "              Is_Holiday  Non-Regulars  Regulars\n",
       "Is_Holiday       1.00000      0.029720 -0.164190\n",
       "Non-Regulars     0.02972      1.000000  0.274984\n",
       "Regulars        -0.16419      0.274984  1.000000"
      ]
     },
     "execution_count": 83,
     "metadata": {},
     "output_type": "execute_result"
    }
   ],
   "source": [
    "pd.concat([weather['is_holiday'], weather['no_casual_riders'], weather['no_reg_riders']], axis=1, keys=['Is_Holiday', 'Non-Regulars', 'Regulars']).corr()"
   ]
  },
  {
   "cell_type": "markdown",
   "metadata": {},
   "source": [
    "###Weak correlation of Regular rider data during Holiday dates."
   ]
  }
 ],
 "metadata": {
  "kernelspec": {
   "display_name": "Python 2",
   "language": "python",
   "name": "python2"
  },
  "language_info": {
   "codemirror_mode": {
    "name": "ipython",
    "version": 2
   },
   "file_extension": ".py",
   "mimetype": "text/x-python",
   "name": "python",
   "nbconvert_exporter": "python",
   "pygments_lexer": "ipython2",
   "version": "2.7.6"
  }
 },
 "nbformat": 4,
 "nbformat_minor": 0
}
