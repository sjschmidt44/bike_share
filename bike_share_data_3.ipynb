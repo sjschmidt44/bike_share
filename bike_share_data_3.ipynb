{
 "cells": [
  {
   "cell_type": "markdown",
   "metadata": {},
   "source": [
    "#Predict what makes for a successful bike station"
   ]
  },
  {
   "cell_type": "code",
   "execution_count": 110,
   "metadata": {
    "collapsed": false
   },
   "outputs": [],
   "source": [
    "from pandas import DataFrame, Series\n",
    "import pandas as pd\n",
    "import numpy as np\n",
    "import matplotlib.pyplot as plt\n",
    "from random import random\n",
    "from sklearn import linear_model\n",
    "from sklearn.linear_model import Lasso\n",
    "from sklearn.cross_validation import train_test_split"
   ]
  },
  {
   "cell_type": "code",
   "execution_count": 60,
   "metadata": {
    "collapsed": true
   },
   "outputs": [],
   "source": [
    "%matplotlib inline\n",
    "plt.rcParams['figure.figsize'] = (14.0, 6.0)"
   ]
  },
  {
   "cell_type": "code",
   "execution_count": 61,
   "metadata": {
    "collapsed": false
   },
   "outputs": [],
   "source": [
    "weather = pd.read_table('daily_weather.tsv')\n",
    "usage = pd.read_table('usage_2012.tsv')\n",
    "stations = pd.read_table('stations.tsv')"
   ]
  },
  {
   "cell_type": "markdown",
   "metadata": {},
   "source": [
    "#Compute the number of rentals per station per day"
   ]
  },
  {
   "cell_type": "code",
   "execution_count": 62,
   "metadata": {
    "collapsed": false
   },
   "outputs": [
    {
     "name": "stderr",
     "output_type": "stream",
     "text": [
      "/Users/Scott/.virtualenvs/bike_share/lib/python2.7/site-packages/IPython/kernel/__main__.py:2: SettingWithCopyWarning: \n",
      "A value is trying to be set on a copy of a slice from a DataFrame.\n",
      "Try using .loc[row_indexer,col_indexer] = value instead\n",
      "\n",
      "See the the caveats in the documentation: http://pandas.pydata.org/pandas-docs/stable/indexing.html#indexing-view-versus-copy\n",
      "  from IPython.kernel.zmq import kernelapp as app\n",
      "/Users/Scott/.virtualenvs/bike_share/lib/python2.7/site-packages/IPython/kernel/__main__.py:3: SettingWithCopyWarning: \n",
      "A value is trying to be set on a copy of a slice from a DataFrame.\n",
      "Try using .loc[row_indexer,col_indexer] = value instead\n",
      "\n",
      "See the the caveats in the documentation: http://pandas.pydata.org/pandas-docs/stable/indexing.html#indexing-view-versus-copy\n",
      "  app.launch_new_instance()\n"
     ]
    }
   ],
   "source": [
    "days = usage[['station_start', 'time_start']]\n",
    "days['day'] = days['time_start'].str[5:10]\n",
    "days['count'] = 1"
   ]
  },
  {
   "cell_type": "code",
   "execution_count": 63,
   "metadata": {
    "collapsed": false
   },
   "outputs": [],
   "source": [
    "new_stations = pd.merge(days, stations, left_on='station_start', right_on='station')"
   ]
  },
  {
   "cell_type": "code",
   "execution_count": 64,
   "metadata": {
    "collapsed": false
   },
   "outputs": [],
   "source": [
    "rentals_per_station = new_stations.groupby('station').size()"
   ]
  },
  {
   "cell_type": "code",
   "execution_count": 65,
   "metadata": {
    "collapsed": false
   },
   "outputs": [
    {
     "data": {
      "text/plain": [
       "station\n",
       "10th & E St NW                                       17\n",
       "10th & Monroe St NE                                  10\n",
       "10th & U St NW                                       71\n",
       "10th St & Constitution Ave NW                        55\n",
       "11th & H St NE                                       35\n",
       "11th & Kenyon St NW                                  61\n",
       "12th & Army Navy Dr                                  10\n",
       "12th & L St NW                                       23\n",
       "12th & Newton St NE                                   3\n",
       "13th & D St NE                                       52\n",
       "13th & H St NE                                       42\n",
       "13th St & New York Ave NW                            53\n",
       "14th & D St NW / Ronald Reagan Building              51\n",
       "14th & D St SE                                       33\n",
       "14th & G St NW                                       53\n",
       "14th & Harvard St NW                                 71\n",
       "14th & R St NW                                       68\n",
       "14th & Rhode Island Ave NW                           86\n",
       "14th & V St NW                                      109\n",
       "14th St & Spring Rd NW                               27\n",
       "14th St Heights / 14th & Crittenden St NW             9\n",
       "15th & Crystal Dr                                     8\n",
       "15th & K St NW                                       17\n",
       "15th & N Scott St                                     6\n",
       "15th & P St NW                                      135\n",
       "15th St & Massachusetts Ave SE                       29\n",
       "16th & Harvard St NW                                 95\n",
       "17th & Corcoran St NW                               118\n",
       "17th & K St NW                                       65\n",
       "17th & K St NW / Farragut Square                     54\n",
       "                                                   ... \n",
       "N Veitch & Key Blvd                                   5\n",
       "New Hampshire Ave & T St NW                          70\n",
       "New York Ave & 15th St NW                            67\n",
       "North Capitol St & F St NW                           86\n",
       "Ohio Dr & West Basin Dr SW / MLK & FDR Memorials     47\n",
       "Park Rd & Holmead Pl NW                              77\n",
       "Pennsylvania & Minnesota Ave SE                       1\n",
       "Pentagon City Metro / 12th & S Hayes St              11\n",
       "Potomac & Pennsylvania Ave SE                        38\n",
       "Potomac Ave & 35th St S                               0\n",
       "Prince St & Union St                                  1\n",
       "Randle Circle & Minnesota Ave SE                      0\n",
       "Rosslyn Metro / Wilson Blvd & Ft Myer Dr             21\n",
       "S Glebe & Potomac Ave                                11\n",
       "S Joyce & Army Navy Dr                               10\n",
       "Saint Asaph St & Pendleton  St                        2\n",
       "Smithsonian / Jefferson Dr & 12th St SW              47\n",
       "Tenleytown / Wisconsin Ave & Albemarle St NW         27\n",
       "Thomas Circle                                       109\n",
       "US Dept of State / Virginia Ave & 21st St NW         49\n",
       "USDA / 12th & Independence Ave SW                    56\n",
       "Utah St & 11th St N                                   2\n",
       "Van Ness Metro / UDC                                 24\n",
       "Virginia Square Metro / N Monroe St & 9th St N       12\n",
       "Ward Circle / American University                    17\n",
       "Washington Blvd & 10th St N                           3\n",
       "Washington Blvd & 7th St N                            2\n",
       "Wilson Blvd & Franklin Rd                            10\n",
       "Wilson Blvd & N Edgewood St                           7\n",
       "Wilson Blvd & N Oakland St                            5\n",
       "dtype: int64"
      ]
     },
     "execution_count": 65,
     "metadata": {},
     "output_type": "execute_result"
    }
   ],
   "source": [
    "avg_rentals = rentals_per_station.apply(lambda x: x/366)\n",
    "avg_rentals"
   ]
  },
  {
   "cell_type": "markdown",
   "metadata": {
    "collapsed": true
   },
   "source": [
    "###Our stations data has a huge number of quantitative attributes: fast_food, parking, restaurant, etc... Some of them are encoded as 0 or 1 (for absence or presence), others represent counts. To start with, run a simple linear regression where the input (x) variables are all the various station attributes and the output (y) variable is the average number of rentals per day."
   ]
  },
  {
   "cell_type": "code",
   "execution_count": 66,
   "metadata": {
    "collapsed": false
   },
   "outputs": [],
   "source": [
    "new_df = DataFrame(avg_rentals.index, columns=['station'])\n",
    "new_df['avg_rentals'] = avg_rentals.values\n",
    "new_df['station'] = avg_rentals.index\n",
    "avg_station = pd.merge(left=new_df, right=stations, on='station')\n"
   ]
  },
  {
   "cell_type": "markdown",
   "metadata": {},
   "source": [
    "# Plot the predicted values (model.predict(x)) against the actual values and see how they compare."
   ]
  },
  {
   "cell_type": "code",
   "execution_count": 67,
   "metadata": {
    "collapsed": false
   },
   "outputs": [],
   "source": [
    "x = avg_station[list(avg_station.columns.values[8:])]\n",
    "y = avg_station[list(avg_station.columns.values[1:2])]"
   ]
  },
  {
   "cell_type": "code",
   "execution_count": 68,
   "metadata": {
    "collapsed": false
   },
   "outputs": [
    {
     "data": {
      "text/plain": [
       "LinearRegression(copy_X=True, fit_intercept=True, n_jobs=1, normalize=False)"
      ]
     },
     "execution_count": 68,
     "metadata": {},
     "output_type": "execute_result"
    }
   ],
   "source": [
    "regr = linear_model.LinearRegression()\n",
    "regr.fit(x, y)"
   ]
  },
  {
   "cell_type": "code",
   "execution_count": 81,
   "metadata": {
    "collapsed": false
   },
   "outputs": [
    {
     "data": {
      "image/png": "[encoded data removed]",
      "text/plain": [
       "<matplotlib.figure.Figure at 0x110324510>"
      ]
     },
     "metadata": {},
     "output_type": "display_data"
    }
   ],
   "source": [
    "plt.scatter(y, regr.predict(x), s=100)\n",
    "plt.show()"
   ]
  },
  {
   "cell_type": "code",
   "execution_count": 84,
   "metadata": {
    "collapsed": false
   },
   "outputs": [
    {
     "data": {
      "text/plain": [
       "Lasso(alpha=0.15, copy_X=True, fit_intercept=True, max_iter=1000,\n",
       "   normalize=False, positive=False, precompute=False, random_state=None,\n",
       "   selection='cyclic', tol=0.0001, warm_start=False)"
      ]
     },
     "execution_count": 84,
     "metadata": {},
     "output_type": "execute_result"
    }
   ],
   "source": [
    "lass = Lasso(alpha=0.15)\n",
    "lass.fit(x, y)"
   ]
  },
  {
   "cell_type": "code",
   "execution_count": 71,
   "metadata": {
    "collapsed": false
   },
   "outputs": [],
   "source": [
    "x_train, x_test, y_train, y_test = train_test_split(x, y, test_size=.25, random_state=50)"
   ]
  },
  {
   "cell_type": "code",
   "execution_count": 72,
   "metadata": {
    "collapsed": false
   },
   "outputs": [],
   "source": [
    "regr = linear_model.LinearRegression()"
   ]
  },
  {
   "cell_type": "code",
   "execution_count": 73,
   "metadata": {
    "collapsed": false
   },
   "outputs": [
    {
     "data": {
      "text/plain": [
       "LinearRegression(copy_X=True, fit_intercept=True, n_jobs=1, normalize=False)"
      ]
     },
     "execution_count": 73,
     "metadata": {},
     "output_type": "execute_result"
    }
   ],
   "source": [
    "regr.fit(x_train, y_train)"
   ]
  },
  {
   "cell_type": "code",
   "execution_count": 80,
   "metadata": {
    "collapsed": false
   },
   "outputs": [
    {
     "data": {
      "image/png": "[encoded data removed]",
      "text/plain": [
       "<matplotlib.figure.Figure at 0x11b2c6750>"
      ]
     },
     "metadata": {},
     "output_type": "display_data"
    }
   ],
   "source": [
    "plt.scatter(y_test, regr.predict(x_test), s=100)\n",
    "plt.show()"
   ]
  },
  {
   "cell_type": "code",
   "execution_count": 75,
   "metadata": {
    "collapsed": true
   },
   "outputs": [],
   "source": [
    "regr = linear_model.LinearRegression()"
   ]
  },
  {
   "cell_type": "code",
   "execution_count": 76,
   "metadata": {
    "collapsed": false
   },
   "outputs": [
    {
     "data": {
      "text/plain": [
       "LinearRegression(copy_X=True, fit_intercept=True, n_jobs=1, normalize=False)"
      ]
     },
     "execution_count": 76,
     "metadata": {},
     "output_type": "execute_result"
    }
   ],
   "source": [
    "regr.fit(x_train, y_train)"
   ]
  },
  {
   "cell_type": "code",
   "execution_count": 79,
   "metadata": {
    "collapsed": false
   },
   "outputs": [
    {
     "data": {
      "image/png": "[encoded data removed]",
      "text/plain": [
       "<matplotlib.figure.Figure at 0x112be8d90>"
      ]
     },
     "metadata": {},
     "output_type": "display_data"
    }
   ],
   "source": [
    "plt.scatter(y_train, regr.predict(x_train), s=100)\n",
    "plt.show()"
   ]
  },
  {
   "cell_type": "markdown",
   "metadata": {},
   "source": [
    "###Since we have so many variables, this is a good candidate for regularization. In particular, since we'd like to eliminate a lot of them, lasso seems like a good candidate. Build a lasso model on your training data for various values of alpha. Which variables survive?"
   ]
  },
  {
   "cell_type": "code",
   "execution_count": 98,
   "metadata": {
    "collapsed": false
   },
   "outputs": [
    {
     "data": {
      "text/plain": [
       "Lasso(alpha=0.05, copy_X=True, fit_intercept=True, max_iter=1000,\n",
       "   normalize=False, positive=False, precompute=False, random_state=None,\n",
       "   selection='cyclic', tol=0.0001, warm_start=False)"
      ]
     },
     "execution_count": 98,
     "metadata": {},
     "output_type": "execute_result"
    }
   ],
   "source": [
    "lass = Lasso(alpha=.05)\n",
    "lass.fit(x_train, y_train)"
   ]
  },
  {
   "cell_type": "code",
   "execution_count": 145,
   "metadata": {
    "collapsed": false
   },
   "outputs": [
    {
     "data": {
      "text/plain": [
       "array([ 26.15487057,  27.64954063,  26.98006496,  76.4599531 ,  26.23404295])"
      ]
     },
     "execution_count": 145,
     "metadata": {},
     "output_type": "execute_result"
    }
   ],
   "source": [
    "lass.predict(x_train)[:5]"
   ]
  },
  {
   "cell_type": "code",
   "execution_count": 154,
   "metadata": {
    "collapsed": false
   },
   "outputs": [
    {
     "name": "stdout",
     "output_type": "stream",
     "text": [
      "Alpha=0.234700143566 [ 25.27242517  21.01832593  29.94432938  70.32398967  32.50966695]\n",
      "Alpha=0.423500720139 [ 26.63177714  27.97972835  30.58130998  76.38527461  29.30561861]\n",
      "Alpha=0.908330266998 [ 25.48119885  27.44762452  24.36459125  74.94649788  25.6931936 ]\n",
      "Alpha=0.957953573243 [ 25.42055699  27.41339695  23.66457643  74.55645809  25.83741713]\n",
      "Alpha=0.95216367752 [ 25.42144559  27.41855791  23.749116    74.59819522  25.81837699]\n",
      "Alpha=0.0268612462511 [ 20.8953925   15.70684562  29.74771508  73.23657899  45.73656088]\n",
      "Alpha=0.517098004549 [ 26.51745111  27.90444396  30.29696692  77.47962581  27.63479604]\n",
      "Alpha=0.628075691419 [ 26.28933725  27.71395871  27.92011112  76.78242371  26.55142876]\n",
      "Alpha=0.459268828363 [ 26.58774775  27.99479818  30.60908741  76.91140781  28.70993781]\n",
      "Alpha=0.368171824763 [ 26.46582998  27.29035052  30.29755976  75.4198396   30.20188681]\n"
     ]
    }
   ],
   "source": [
    "for idx in range(10):\n",
    "    rand = random()\n",
    "    lass = Lasso(alpha=float(rand))\n",
    "    lass.fit(x_train, y_train)\n",
    "    print 'Alpha={}'.format(float(rand)), lass.predict(x_train)[:5]"
   ]
  },
  {
   "cell_type": "markdown",
   "metadata": {},
   "source": [
    "###How does this model perform on the test set?"
   ]
  },
  {
   "cell_type": "code",
   "execution_count": 151,
   "metadata": {
    "collapsed": false
   },
   "outputs": [
    {
     "data": {
      "text/plain": [
       "Lasso(alpha=0.5, copy_X=True, fit_intercept=True, max_iter=1000,\n",
       "   normalize=False, positive=False, precompute=False, random_state=None,\n",
       "   selection='cyclic', tol=0.0001, warm_start=False)"
      ]
     },
     "execution_count": 151,
     "metadata": {},
     "output_type": "execute_result"
    }
   ],
   "source": [
    "lass = Lasso(alpha=.5)\n",
    "lass.fit(x_test, y_test)"
   ]
  },
  {
   "cell_type": "code",
   "execution_count": 152,
   "metadata": {
    "collapsed": false
   },
   "outputs": [
    {
     "data": {
      "text/plain": [
       "array([ 34.03367212,  28.0498293 ,  32.90781279,  29.92721137,  34.1245916 ])"
      ]
     },
     "execution_count": 152,
     "metadata": {},
     "output_type": "execute_result"
    }
   ],
   "source": [
    "lass.predict(x_train)[:5]"
   ]
  },
  {
   "cell_type": "code",
   "execution_count": 155,
   "metadata": {
    "collapsed": false
   },
   "outputs": [
    {
     "name": "stdout",
     "output_type": "stream",
     "text": [
      "Alpha=0.792642756101 [ 28.98185453  30.70393272  23.22009799  17.39672851  31.59258359]\n",
      "Alpha=0.291736222366 [ 38.00694723  23.78743507  36.12631519  36.35679546  36.18045834]\n",
      "Alpha=0.0164024922065 [ 54.06213867  11.33976022  32.86386091  73.58416512  81.4868313 ]\n",
      "Alpha=0.158658065376 [ 40.70225358  20.55404195  38.76070774  33.90327636  36.33100657]\n",
      "Alpha=0.574904594495 [ 32.58117037  28.6659392   29.69340387  24.6191329   33.56419502]\n",
      "Alpha=0.205797133919 [ 39.80591643  21.94155068  37.54168838  35.64148787  36.49619408]\n",
      "Alpha=0.369779024228 [ 36.38874944  25.72432379  35.93372224  35.27955356  35.28445467]\n",
      "Alpha=0.970457658681 [ 27.95132992  30.87072501  20.83173448  16.32635234  31.48189037]\n",
      "Alpha=0.705352501131 [ 30.01345819  30.27655759  25.20840394  18.88867771  32.22280729]\n",
      "Alpha=0.460073944025 [ 34.80721701  27.72102944  34.62000721  32.75626501  34.42380944]\n"
     ]
    }
   ],
   "source": [
    "for idx in range(10):\n",
    "    rand = random()\n",
    "    lass = Lasso(alpha=float(rand))\n",
    "    lass.fit(x_test, y_test)\n",
    "    print 'Alpha={}'.format(float(rand)), lass.predict(x_train)[:5]"
   ]
  },
  {
   "cell_type": "markdown",
   "metadata": {},
   "source": [
    "####I honestly have little idea what's happening above here... I also have no idea how to get the data below into a simple linear regression....\n",
    "\n",
    "###No matter how high I make alpha, the coefficient on crossing (\"number of nearby crosswalks\") never goes away. Try a simple linear regression on just that variable."
   ]
  },
  {
   "cell_type": "code",
   "execution_count": null,
   "metadata": {
    "collapsed": true
   },
   "outputs": [],
   "source": []
  }
 ],
 "metadata": {
  "kernelspec": {
   "display_name": "Python 2",
   "language": "python",
   "name": "python2"
  },
  "language_info": {
   "codemirror_mode": {
    "name": "ipython",
    "version": 2
   },
   "file_extension": ".py",
   "mimetype": "text/x-python",
   "name": "python",
   "nbconvert_exporter": "python",
   "pygments_lexer": "ipython2",
   "version": "2.7.6"
  }
 },
 "nbformat": 4,
 "nbformat_minor": 0
}
