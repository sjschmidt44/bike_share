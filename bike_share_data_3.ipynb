{
 "cells": [
  {
   "cell_type": "markdown",
   "metadata": {},
   "source": [
    "#Predict what makes for a successful bike station"
   ]
  },
  {
   "cell_type": "code",
   "execution_count": 65,
   "metadata": {
    "collapsed": true
   },
   "outputs": [],
   "source": [
    "from pandas import DataFrame, Series\n",
    "import pandas as pd\n",
    "import numpy as np\n",
    "import matplotlib.pyplot as plt\n",
    "from sklearn import linear_model"
   ]
  },
  {
   "cell_type": "code",
   "execution_count": 66,
   "metadata": {
    "collapsed": true
   },
   "outputs": [],
   "source": [
    "%matplotlib inline\n",
    "plt.rcParams['figure.figsize'] = (14.0, 6.0)"
   ]
  },
  {
   "cell_type": "code",
   "execution_count": 67,
   "metadata": {
    "collapsed": false
   },
   "outputs": [],
   "source": [
    "weather = pd.read_table('daily_weather.tsv')\n",
    "usage = pd.read_table('usage_2012.tsv')\n",
    "stations = pd.read_table('stations.tsv')"
   ]
  },
  {
   "cell_type": "markdown",
   "metadata": {},
   "source": [
    "#Compute the number of rentals per station per day"
   ]
  },
  {
   "cell_type": "code",
   "execution_count": 68,
   "metadata": {
    "collapsed": false
   },
   "outputs": [
    {
     "name": "stderr",
     "output_type": "stream",
     "text": [
      "/Users/Scott/.virtualenvs/bike_share/lib/python2.7/site-packages/IPython/kernel/__main__.py:2: SettingWithCopyWarning: \n",
      "A value is trying to be set on a copy of a slice from a DataFrame.\n",
      "Try using .loc[row_indexer,col_indexer] = value instead\n",
      "\n",
      "See the the caveats in the documentation: http://pandas.pydata.org/pandas-docs/stable/indexing.html#indexing-view-versus-copy\n",
      "  from IPython.kernel.zmq import kernelapp as app\n",
      "/Users/Scott/.virtualenvs/bike_share/lib/python2.7/site-packages/IPython/kernel/__main__.py:3: SettingWithCopyWarning: \n",
      "A value is trying to be set on a copy of a slice from a DataFrame.\n",
      "Try using .loc[row_indexer,col_indexer] = value instead\n",
      "\n",
      "See the the caveats in the documentation: http://pandas.pydata.org/pandas-docs/stable/indexing.html#indexing-view-versus-copy\n",
      "  app.launch_new_instance()\n"
     ]
    }
   ],
   "source": [
    "days = usage[['station_start', 'time_start']]\n",
    "days['day'] = days['time_start'].str[5:10]\n",
    "days['count'] = 1"
   ]
  },
  {
   "cell_type": "markdown",
   "metadata": {
    "collapsed": true
   },
   "source": [
    "###Our stations data has a huge number of quantitative attributes: fast_food, parking, restaurant, etc... Some of them are encoded as 0 or 1 (for absence or presence), others represent counts. To start with, run a simple linear regression where the input (x) variables are all the various station attributes and the output (y) variable is the average number of rentals per day."
   ]
  },
  {
   "cell_type": "code",
   "execution_count": 72,
   "metadata": {
    "collapsed": false
   },
   "outputs": [],
   "source": [
    "new_stations = pd.merge(days, stations, left_on='station_start', right_on='station')"
   ]
  },
  {
   "cell_type": "code",
   "execution_count": 61,
   "metadata": {
    "collapsed": false
   },
   "outputs": [
    {
     "data": {
      "text/html": [
       "<div>\n",
       "<table border=\"1\" class=\"dataframe\">\n",
       "  <thead>\n",
       "    <tr style=\"text-align: right;\">\n",
       "      <th></th>\n",
       "      <th>station_start</th>\n",
       "      <th>time_start</th>\n",
       "      <th>day</th>\n",
       "      <th>count</th>\n",
       "      <th>id</th>\n",
       "      <th>station</th>\n",
       "      <th>terminal_name</th>\n",
       "      <th>lat</th>\n",
       "      <th>long</th>\n",
       "      <th>no_bikes</th>\n",
       "      <th>...</th>\n",
       "      <th>museum</th>\n",
       "      <th>sculpture</th>\n",
       "      <th>hostel</th>\n",
       "      <th>picnic_site</th>\n",
       "      <th>tour_guide</th>\n",
       "      <th>attraction</th>\n",
       "      <th>landmark</th>\n",
       "      <th>motel</th>\n",
       "      <th>guest_house</th>\n",
       "      <th>gallery</th>\n",
       "    </tr>\n",
       "  </thead>\n",
       "  <tbody>\n",
       "    <tr>\n",
       "      <th>0</th>\n",
       "      <td>7th &amp; R St NW / Shaw Library</td>\n",
       "      <td>2012-01-01 00:04:00</td>\n",
       "      <td>01-01</td>\n",
       "      <td>1</td>\n",
       "      <td>145</td>\n",
       "      <td>7th &amp; R St NW / Shaw Library</td>\n",
       "      <td>31245</td>\n",
       "      <td>38.912719</td>\n",
       "      <td>-77.022155</td>\n",
       "      <td>5</td>\n",
       "      <td>...</td>\n",
       "      <td>0</td>\n",
       "      <td>0</td>\n",
       "      <td>0</td>\n",
       "      <td>0</td>\n",
       "      <td>0</td>\n",
       "      <td>0</td>\n",
       "      <td>0</td>\n",
       "      <td>0</td>\n",
       "      <td>0</td>\n",
       "      <td>0</td>\n",
       "    </tr>\n",
       "    <tr>\n",
       "      <th>1</th>\n",
       "      <td>7th &amp; R St NW / Shaw Library</td>\n",
       "      <td>2012-01-01 00:04:00</td>\n",
       "      <td>01-01</td>\n",
       "      <td>1</td>\n",
       "      <td>145</td>\n",
       "      <td>7th &amp; R St NW / Shaw Library</td>\n",
       "      <td>31245</td>\n",
       "      <td>38.912719</td>\n",
       "      <td>-77.022155</td>\n",
       "      <td>5</td>\n",
       "      <td>...</td>\n",
       "      <td>0</td>\n",
       "      <td>0</td>\n",
       "      <td>0</td>\n",
       "      <td>0</td>\n",
       "      <td>0</td>\n",
       "      <td>0</td>\n",
       "      <td>0</td>\n",
       "      <td>0</td>\n",
       "      <td>0</td>\n",
       "      <td>0</td>\n",
       "    </tr>\n",
       "    <tr>\n",
       "      <th>2</th>\n",
       "      <td>7th &amp; R St NW / Shaw Library</td>\n",
       "      <td>2012-01-01 01:55:00</td>\n",
       "      <td>01-01</td>\n",
       "      <td>1</td>\n",
       "      <td>145</td>\n",
       "      <td>7th &amp; R St NW / Shaw Library</td>\n",
       "      <td>31245</td>\n",
       "      <td>38.912719</td>\n",
       "      <td>-77.022155</td>\n",
       "      <td>5</td>\n",
       "      <td>...</td>\n",
       "      <td>0</td>\n",
       "      <td>0</td>\n",
       "      <td>0</td>\n",
       "      <td>0</td>\n",
       "      <td>0</td>\n",
       "      <td>0</td>\n",
       "      <td>0</td>\n",
       "      <td>0</td>\n",
       "      <td>0</td>\n",
       "      <td>0</td>\n",
       "    </tr>\n",
       "    <tr>\n",
       "      <th>3</th>\n",
       "      <td>7th &amp; R St NW / Shaw Library</td>\n",
       "      <td>2012-01-01 01:55:00</td>\n",
       "      <td>01-01</td>\n",
       "      <td>1</td>\n",
       "      <td>145</td>\n",
       "      <td>7th &amp; R St NW / Shaw Library</td>\n",
       "      <td>31245</td>\n",
       "      <td>38.912719</td>\n",
       "      <td>-77.022155</td>\n",
       "      <td>5</td>\n",
       "      <td>...</td>\n",
       "      <td>0</td>\n",
       "      <td>0</td>\n",
       "      <td>0</td>\n",
       "      <td>0</td>\n",
       "      <td>0</td>\n",
       "      <td>0</td>\n",
       "      <td>0</td>\n",
       "      <td>0</td>\n",
       "      <td>0</td>\n",
       "      <td>0</td>\n",
       "    </tr>\n",
       "    <tr>\n",
       "      <th>4</th>\n",
       "      <td>7th &amp; R St NW / Shaw Library</td>\n",
       "      <td>2012-01-01 12:40:00</td>\n",
       "      <td>01-01</td>\n",
       "      <td>1</td>\n",
       "      <td>145</td>\n",
       "      <td>7th &amp; R St NW / Shaw Library</td>\n",
       "      <td>31245</td>\n",
       "      <td>38.912719</td>\n",
       "      <td>-77.022155</td>\n",
       "      <td>5</td>\n",
       "      <td>...</td>\n",
       "      <td>0</td>\n",
       "      <td>0</td>\n",
       "      <td>0</td>\n",
       "      <td>0</td>\n",
       "      <td>0</td>\n",
       "      <td>0</td>\n",
       "      <td>0</td>\n",
       "      <td>0</td>\n",
       "      <td>0</td>\n",
       "      <td>0</td>\n",
       "    </tr>\n",
       "  </tbody>\n",
       "</table>\n",
       "<p>5 rows × 140 columns</p>\n",
       "</div>"
      ],
      "text/plain": [
       "                  station_start           time_start    day  count   id  \\\n",
       "0  7th & R St NW / Shaw Library  2012-01-01 00:04:00  01-01      1  145   \n",
       "1  7th & R St NW / Shaw Library  2012-01-01 00:04:00  01-01      1  145   \n",
       "2  7th & R St NW / Shaw Library  2012-01-01 01:55:00  01-01      1  145   \n",
       "3  7th & R St NW / Shaw Library  2012-01-01 01:55:00  01-01      1  145   \n",
       "4  7th & R St NW / Shaw Library  2012-01-01 12:40:00  01-01      1  145   \n",
       "\n",
       "                        station  terminal_name        lat       long  \\\n",
       "0  7th & R St NW / Shaw Library          31245  38.912719 -77.022155   \n",
       "1  7th & R St NW / Shaw Library          31245  38.912719 -77.022155   \n",
       "2  7th & R St NW / Shaw Library          31245  38.912719 -77.022155   \n",
       "3  7th & R St NW / Shaw Library          31245  38.912719 -77.022155   \n",
       "4  7th & R St NW / Shaw Library          31245  38.912719 -77.022155   \n",
       "\n",
       "   no_bikes   ...     museum  sculpture  hostel  picnic_site  tour_guide  \\\n",
       "0         5   ...          0          0       0            0           0   \n",
       "1         5   ...          0          0       0            0           0   \n",
       "2         5   ...          0          0       0            0           0   \n",
       "3         5   ...          0          0       0            0           0   \n",
       "4         5   ...          0          0       0            0           0   \n",
       "\n",
       "   attraction  landmark  motel  guest_house  gallery  \n",
       "0           0         0      0            0        0  \n",
       "1           0         0      0            0        0  \n",
       "2           0         0      0            0        0  \n",
       "3           0         0      0            0        0  \n",
       "4           0         0      0            0        0  \n",
       "\n",
       "[5 rows x 140 columns]"
      ]
     },
     "execution_count": 61,
     "metadata": {},
     "output_type": "execute_result"
    }
   ],
   "source": [
    "new_stations.head()"
   ]
  },
  {
   "cell_type": "code",
   "execution_count": 79,
   "metadata": {
    "collapsed": false
   },
   "outputs": [
    {
     "data": {
      "text/plain": [
       "station                     day  \n",
       "10th & E St NW              07-12    20\n",
       "                            07-13    39\n",
       "                            07-14    48\n",
       "                            07-15    39\n",
       "                            07-16    25\n",
       "                            07-17    35\n",
       "                            07-18    17\n",
       "                            07-19    18\n",
       "                            07-20    27\n",
       "                            07-21    38\n",
       "                            07-22    50\n",
       "                            07-23    47\n",
       "                            07-24    32\n",
       "                            07-25    40\n",
       "                            07-26    32\n",
       "                            07-27    37\n",
       "                            07-28    42\n",
       "                            07-29    51\n",
       "                            07-30    40\n",
       "                            07-31    31\n",
       "                            08-01    51\n",
       "                            08-02    53\n",
       "                            08-03    40\n",
       "                            08-04    34\n",
       "                            08-05    43\n",
       "                            08-06    26\n",
       "                            08-07    44\n",
       "                            08-08    54\n",
       "                            08-09    40\n",
       "                            08-10    36\n",
       "                                     ..\n",
       "Wilson Blvd & N Oakland St  12-01     9\n",
       "                            12-02     8\n",
       "                            12-03     5\n",
       "                            12-04     8\n",
       "                            12-05     1\n",
       "                            12-06     4\n",
       "                            12-07     9\n",
       "                            12-08     8\n",
       "                            12-09     3\n",
       "                            12-10     3\n",
       "                            12-11     4\n",
       "                            12-12     7\n",
       "                            12-13     4\n",
       "                            12-14     8\n",
       "                            12-15     9\n",
       "                            12-16     8\n",
       "                            12-17     2\n",
       "                            12-18     3\n",
       "                            12-19     2\n",
       "                            12-20     2\n",
       "                            12-21     3\n",
       "                            12-22     2\n",
       "                            12-23     1\n",
       "                            12-24     2\n",
       "                            12-25     1\n",
       "                            12-26     1\n",
       "                            12-27     2\n",
       "                            12-28     3\n",
       "                            12-30     3\n",
       "                            12-31     2\n",
       "Name: count, dtype: int64"
      ]
     },
     "execution_count": 79,
     "metadata": {},
     "output_type": "execute_result"
    }
   ],
   "source": [
    "pd.pivot_table(new_stations, values='count', index=['station', 'day'], aggfunc='count')"
   ]
  },
  {
   "cell_type": "code",
   "execution_count": null,
   "metadata": {
    "collapsed": true
   },
   "outputs": [],
   "source": []
  }
 ],
 "metadata": {
  "kernelspec": {
   "display_name": "Python 2",
   "language": "python",
   "name": "python2"
  },
  "language_info": {
   "codemirror_mode": {
    "name": "ipython",
    "version": 2
   },
   "file_extension": ".py",
   "mimetype": "text/x-python",
   "name": "python",
   "nbconvert_exporter": "python",
   "pygments_lexer": "ipython2",
   "version": "2.7.6"
  }
 },
 "nbformat": 4,
 "nbformat_minor": 0
}
