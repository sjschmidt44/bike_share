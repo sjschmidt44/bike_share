{
 "cells": [
  {
   "cell_type": "markdown",
   "metadata": {},
   "source": [
    "#Predict what makes for a successful bike station"
   ]
  },
  {
   "cell_type": "code",
   "execution_count": 45,
   "metadata": {
    "collapsed": true
   },
   "outputs": [],
   "source": [
    "from pandas import DataFrame, Series\n",
    "import pandas as pd\n",
    "import numpy as np\n",
    "import matplotlib.pyplot as plt\n",
    "from sklearn import linear_model"
   ]
  },
  {
   "cell_type": "code",
   "execution_count": 46,
   "metadata": {
    "collapsed": true
   },
   "outputs": [],
   "source": [
    "%matplotlib inline\n",
    "plt.rcParams['figure.figsize'] = (14.0, 6.0)"
   ]
  },
  {
   "cell_type": "code",
   "execution_count": 47,
   "metadata": {
    "collapsed": false
   },
   "outputs": [],
   "source": [
    "weather = pd.read_table('daily_weather.tsv')\n",
    "usage = pd.read_table('usage_2012.tsv')\n",
    "stations = pd.read_table('stations.tsv')"
   ]
  },
  {
   "cell_type": "markdown",
   "metadata": {},
   "source": [
    "#Compute the number of rentals per station per day"
   ]
  },
  {
   "cell_type": "code",
   "execution_count": 48,
   "metadata": {
    "collapsed": false
   },
   "outputs": [
    {
     "name": "stderr",
     "output_type": "stream",
     "text": [
      "/Users/Scott/.virtualenvs/bike_share/lib/python2.7/site-packages/IPython/kernel/__main__.py:2: SettingWithCopyWarning: \n",
      "A value is trying to be set on a copy of a slice from a DataFrame.\n",
      "Try using .loc[row_indexer,col_indexer] = value instead\n",
      "\n",
      "See the the caveats in the documentation: http://pandas.pydata.org/pandas-docs/stable/indexing.html#indexing-view-versus-copy\n",
      "  from IPython.kernel.zmq import kernelapp as app\n",
      "/Users/Scott/.virtualenvs/bike_share/lib/python2.7/site-packages/IPython/kernel/__main__.py:3: SettingWithCopyWarning: \n",
      "A value is trying to be set on a copy of a slice from a DataFrame.\n",
      "Try using .loc[row_indexer,col_indexer] = value instead\n",
      "\n",
      "See the the caveats in the documentation: http://pandas.pydata.org/pandas-docs/stable/indexing.html#indexing-view-versus-copy\n",
      "  app.launch_new_instance()\n"
     ]
    }
   ],
   "source": [
    "days = usage[['station_start', 'time_start']]\n",
    "days['day'] = days['time_start'].str[5:10]\n",
    "days['count'] = 1"
   ]
  },
  {
   "cell_type": "code",
   "execution_count": 52,
   "metadata": {
    "collapsed": false
   },
   "outputs": [],
   "source": [
    "new_stations = pd.merge(days, stations, left_on='station_start', right_on='station')"
   ]
  },
  {
   "cell_type": "code",
   "execution_count": 61,
   "metadata": {
    "collapsed": false
   },
   "outputs": [],
   "source": [
    "rentals_per_station = new_stations.groupby('station').size()"
   ]
  },
  {
   "cell_type": "code",
   "execution_count": 63,
   "metadata": {
    "collapsed": false
   },
   "outputs": [
    {
     "data": {
      "text/plain": [
       "station\n",
       "10th & E St NW                                       17\n",
       "10th & Monroe St NE                                  10\n",
       "10th & U St NW                                       71\n",
       "10th St & Constitution Ave NW                        55\n",
       "11th & H St NE                                       35\n",
       "11th & Kenyon St NW                                  61\n",
       "12th & Army Navy Dr                                  10\n",
       "12th & L St NW                                       23\n",
       "12th & Newton St NE                                   3\n",
       "13th & D St NE                                       52\n",
       "13th & H St NE                                       42\n",
       "13th St & New York Ave NW                            53\n",
       "14th & D St NW / Ronald Reagan Building              51\n",
       "14th & D St SE                                       33\n",
       "14th & G St NW                                       53\n",
       "14th & Harvard St NW                                 71\n",
       "14th & R St NW                                       68\n",
       "14th & Rhode Island Ave NW                           86\n",
       "14th & V St NW                                      109\n",
       "14th St & Spring Rd NW                               27\n",
       "14th St Heights / 14th & Crittenden St NW             9\n",
       "15th & Crystal Dr                                     8\n",
       "15th & K St NW                                       17\n",
       "15th & N Scott St                                     6\n",
       "15th & P St NW                                      135\n",
       "15th St & Massachusetts Ave SE                       29\n",
       "16th & Harvard St NW                                 95\n",
       "17th & Corcoran St NW                               118\n",
       "17th & K St NW                                       65\n",
       "17th & K St NW / Farragut Square                     54\n",
       "                                                   ... \n",
       "N Veitch & Key Blvd                                   5\n",
       "New Hampshire Ave & T St NW                          70\n",
       "New York Ave & 15th St NW                            67\n",
       "North Capitol St & F St NW                           86\n",
       "Ohio Dr & West Basin Dr SW / MLK & FDR Memorials     47\n",
       "Park Rd & Holmead Pl NW                              77\n",
       "Pennsylvania & Minnesota Ave SE                       1\n",
       "Pentagon City Metro / 12th & S Hayes St              11\n",
       "Potomac & Pennsylvania Ave SE                        38\n",
       "Potomac Ave & 35th St S                               0\n",
       "Prince St & Union St                                  1\n",
       "Randle Circle & Minnesota Ave SE                      0\n",
       "Rosslyn Metro / Wilson Blvd & Ft Myer Dr             21\n",
       "S Glebe & Potomac Ave                                11\n",
       "S Joyce & Army Navy Dr                               10\n",
       "Saint Asaph St & Pendleton  St                        2\n",
       "Smithsonian / Jefferson Dr & 12th St SW              47\n",
       "Tenleytown / Wisconsin Ave & Albemarle St NW         27\n",
       "Thomas Circle                                       109\n",
       "US Dept of State / Virginia Ave & 21st St NW         49\n",
       "USDA / 12th & Independence Ave SW                    56\n",
       "Utah St & 11th St N                                   2\n",
       "Van Ness Metro / UDC                                 24\n",
       "Virginia Square Metro / N Monroe St & 9th St N       12\n",
       "Ward Circle / American University                    17\n",
       "Washington Blvd & 10th St N                           3\n",
       "Washington Blvd & 7th St N                            2\n",
       "Wilson Blvd & Franklin Rd                            10\n",
       "Wilson Blvd & N Edgewood St                           7\n",
       "Wilson Blvd & N Oakland St                            5\n",
       "dtype: int64"
      ]
     },
     "execution_count": 63,
     "metadata": {},
     "output_type": "execute_result"
    }
   ],
   "source": [
    "avg_rentals = rentals_per_station.apply(lambda x: x/366)\n",
    "avg_rentals"
   ]
  },
  {
   "cell_type": "markdown",
   "metadata": {
    "collapsed": true
   },
   "source": [
    "###Our stations data has a huge number of quantitative attributes: fast_food, parking, restaurant, etc... Some of them are encoded as 0 or 1 (for absence or presence), others represent counts. To start with, run a simple linear regression where the input (x) variables are all the various station attributes and the output (y) variable is the average number of rentals per day."
   ]
  },
  {
   "cell_type": "code",
   "execution_count": null,
   "metadata": {
    "collapsed": true
   },
   "outputs": [],
   "source": [
    "regr = linear_model.LinearRegression()\n",
    "regr.fit()"
   ]
  },
  {
   "cell_type": "code",
   "execution_count": null,
   "metadata": {
    "collapsed": true
   },
   "outputs": [],
   "source": []
  }
 ],
 "metadata": {
  "kernelspec": {
   "display_name": "Python 2",
   "language": "python",
   "name": "python2"
  },
  "language_info": {
   "codemirror_mode": {
    "name": "ipython",
    "version": 2
   },
   "file_extension": ".py",
   "mimetype": "text/x-python",
   "name": "python",
   "nbconvert_exporter": "python",
   "pygments_lexer": "ipython2",
   "version": "2.7.6"
  }
 },
 "nbformat": 4,
 "nbformat_minor": 0
}
