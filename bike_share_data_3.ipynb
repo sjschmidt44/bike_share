{
 "cells": [
  {
   "cell_type": "markdown",
   "metadata": {},
   "source": [
    "#Predict what makes for a successful bike station"
   ]
  },
  {
   "cell_type": "code",
   "execution_count": 3,
   "metadata": {
    "collapsed": false
   },
   "outputs": [],
   "source": [
    "from pandas import DataFrame, Series\n",
    "import pandas as pd\n",
    "import numpy as np\n",
    "import matplotlib.pyplot as plt\n",
    "from random import random\n",
    "from sklearn import linear_model\n",
    "from sklearn.linear_model import Lasso\n",
    "from sklearn.cross_validation import train_test_split"
   ]
  },
  {
   "cell_type": "code",
   "execution_count": 4,
   "metadata": {
    "collapsed": true
   },
   "outputs": [],
   "source": [
    "%matplotlib inline\n",
    "plt.rcParams['figure.figsize'] = (14.0, 6.0)"
   ]
  },
  {
   "cell_type": "code",
   "execution_count": 5,
   "metadata": {
    "collapsed": false
   },
   "outputs": [],
   "source": [
    "weather = pd.read_table('daily_weather.tsv')\n",
    "usage = pd.read_table('usage_2012.tsv')\n",
    "stations = pd.read_table('stations.tsv')"
   ]
  },
  {
   "cell_type": "markdown",
   "metadata": {},
   "source": [
    "#Compute the number of rentals per station per day"
   ]
  },
  {
   "cell_type": "code",
   "execution_count": 6,
   "metadata": {
    "collapsed": false
   },
   "outputs": [
    {
     "name": "stderr",
     "output_type": "stream",
     "text": [
      "/Users/jimgrant/.virtualenvs/bikeshare/lib/python2.7/site-packages/IPython/kernel/__main__.py:2: SettingWithCopyWarning: \n",
      "A value is trying to be set on a copy of a slice from a DataFrame.\n",
      "Try using .loc[row_indexer,col_indexer] = value instead\n",
      "\n",
      "See the the caveats in the documentation: http://pandas.pydata.org/pandas-docs/stable/indexing.html#indexing-view-versus-copy\n",
      "  from IPython.kernel.zmq import kernelapp as app\n",
      "/Users/jimgrant/.virtualenvs/bikeshare/lib/python2.7/site-packages/IPython/kernel/__main__.py:3: SettingWithCopyWarning: \n",
      "A value is trying to be set on a copy of a slice from a DataFrame.\n",
      "Try using .loc[row_indexer,col_indexer] = value instead\n",
      "\n",
      "See the the caveats in the documentation: http://pandas.pydata.org/pandas-docs/stable/indexing.html#indexing-view-versus-copy\n",
      "  app.launch_new_instance()\n"
     ]
    }
   ],
   "source": [
    "days = usage[['station_start', 'time_start']]\n",
    "days['day'] = days['time_start'].str[5:10]\n",
    "days['count'] = 1"
   ]
  },
  {
   "cell_type": "code",
   "execution_count": 7,
   "metadata": {
    "collapsed": false
   },
   "outputs": [],
   "source": [
    "new_stations = pd.merge(days, stations, left_on='station_start', right_on='station')"
   ]
  },
  {
   "cell_type": "code",
   "execution_count": 9,
   "metadata": {
    "collapsed": false
   },
   "outputs": [],
   "source": [
    "rentals_per_station = new_stations.groupby('station').size()"
   ]
  },
  {
   "cell_type": "code",
   "execution_count": 10,
   "metadata": {
    "collapsed": false
   },
   "outputs": [
    {
     "data": {
      "text/plain": [
       "station\n",
       "10th & E St NW                                       17\n",
       "10th & Monroe St NE                                  10\n",
       "10th & U St NW                                       71\n",
       "10th St & Constitution Ave NW                        55\n",
       "11th & H St NE                                       35\n",
       "11th & Kenyon St NW                                  61\n",
       "12th & Army Navy Dr                                  10\n",
       "12th & L St NW                                       23\n",
       "12th & Newton St NE                                   3\n",
       "13th & D St NE                                       52\n",
       "13th & H St NE                                       42\n",
       "13th St & New York Ave NW                            53\n",
       "14th & D St NW / Ronald Reagan Building              51\n",
       "14th & D St SE                                       33\n",
       "14th & G St NW                                       53\n",
       "14th & Harvard St NW                                 71\n",
       "14th & R St NW                                       68\n",
       "14th & Rhode Island Ave NW                           86\n",
       "14th & V St NW                                      109\n",
       "14th St & Spring Rd NW                               27\n",
       "14th St Heights / 14th & Crittenden St NW             9\n",
       "15th & Crystal Dr                                     8\n",
       "15th & K St NW                                       17\n",
       "15th & N Scott St                                     6\n",
       "15th & P St NW                                      135\n",
       "15th St & Massachusetts Ave SE                       29\n",
       "16th & Harvard St NW                                 95\n",
       "17th & Corcoran St NW                               118\n",
       "17th & K St NW                                       65\n",
       "17th & K St NW / Farragut Square                     54\n",
       "                                                   ... \n",
       "N Veitch & Key Blvd                                   5\n",
       "New Hampshire Ave & T St NW                          70\n",
       "New York Ave & 15th St NW                            67\n",
       "North Capitol St & F St NW                           86\n",
       "Ohio Dr & West Basin Dr SW / MLK & FDR Memorials     47\n",
       "Park Rd & Holmead Pl NW                              77\n",
       "Pennsylvania & Minnesota Ave SE                       1\n",
       "Pentagon City Metro / 12th & S Hayes St              11\n",
       "Potomac & Pennsylvania Ave SE                        38\n",
       "Potomac Ave & 35th St S                               0\n",
       "Prince St & Union St                                  1\n",
       "Randle Circle & Minnesota Ave SE                      0\n",
       "Rosslyn Metro / Wilson Blvd & Ft Myer Dr             21\n",
       "S Glebe & Potomac Ave                                11\n",
       "S Joyce & Army Navy Dr                               10\n",
       "Saint Asaph St & Pendleton  St                        2\n",
       "Smithsonian / Jefferson Dr & 12th St SW              47\n",
       "Tenleytown / Wisconsin Ave & Albemarle St NW         27\n",
       "Thomas Circle                                       109\n",
       "US Dept of State / Virginia Ave & 21st St NW         49\n",
       "USDA / 12th & Independence Ave SW                    56\n",
       "Utah St & 11th St N                                   2\n",
       "Van Ness Metro / UDC                                 24\n",
       "Virginia Square Metro / N Monroe St & 9th St N       12\n",
       "Ward Circle / American University                    17\n",
       "Washington Blvd & 10th St N                           3\n",
       "Washington Blvd & 7th St N                            2\n",
       "Wilson Blvd & Franklin Rd                            10\n",
       "Wilson Blvd & N Edgewood St                           7\n",
       "Wilson Blvd & N Oakland St                            5\n",
       "dtype: int64"
      ]
     },
     "execution_count": 10,
     "metadata": {},
     "output_type": "execute_result"
    }
   ],
   "source": [
    "avg_rentals = rentals_per_station.apply(lambda x: x/366)\n",
    "avg_rentals"
   ]
  },
  {
   "cell_type": "markdown",
   "metadata": {
    "collapsed": true
   },
   "source": [
    "###Our stations data has a huge number of quantitative attributes: fast_food, parking, restaurant, etc... Some of them are encoded as 0 or 1 (for absence or presence), others represent counts. To start with, run a simple linear regression where the input (x) variables are all the various station attributes and the output (y) variable is the average number of rentals per day."
   ]
  },
  {
   "cell_type": "code",
   "execution_count": 11,
   "metadata": {
    "collapsed": false
   },
   "outputs": [],
   "source": [
    "new_df = DataFrame(avg_rentals.index, columns=['station'])\n",
    "new_df['avg_rentals'] = avg_rentals.values\n",
    "new_df['station'] = avg_rentals.index\n",
    "avg_station = pd.merge(left=new_df, right=stations, on='station')\n"
   ]
  },
  {
   "cell_type": "markdown",
   "metadata": {},
   "source": [
    "# Plot the predicted values (model.predict(x)) against the actual values and see how they compare."
   ]
  },
  {
   "cell_type": "code",
   "execution_count": 12,
   "metadata": {
    "collapsed": false
   },
   "outputs": [],
   "source": [
    "x = avg_station[list(avg_station.columns.values[8:])]\n",
    "y = avg_station[list(avg_station.columns.values[1:2])]"
   ]
  },
  {
   "cell_type": "code",
   "execution_count": 13,
   "metadata": {
    "collapsed": false
   },
   "outputs": [
    {
     "data": {
      "text/plain": [
       "LinearRegression(copy_X=True, fit_intercept=True, n_jobs=1, normalize=False)"
      ]
     },
     "execution_count": 13,
     "metadata": {},
     "output_type": "execute_result"
    }
   ],
   "source": [
    "regr = linear_model.LinearRegression()\n",
    "regr.fit(x, y)"
   ]
  },
  {
   "cell_type": "code",
   "execution_count": 14,
   "metadata": {
    "collapsed": false
   },
   "outputs": [
    {
     "data": {
      "image/png": "[encoded data removed]",
      "text/plain": [
       "<matplotlib.figure.Figure at 0x1145b5550>"
      ]
     },
     "metadata": {},
     "output_type": "display_data"
    }
   ],
   "source": [
    "plt.scatter(y, regr.predict(x), s=100)\n",
    "plt.show()"
   ]
  },
  {
   "cell_type": "code",
   "execution_count": 15,
   "metadata": {
    "collapsed": false
   },
   "outputs": [
    {
     "data": {
      "text/plain": [
       "Lasso(alpha=0.15, copy_X=True, fit_intercept=True, max_iter=1000,\n",
       "   normalize=False, positive=False, precompute=False, random_state=None,\n",
       "   selection='cyclic', tol=0.0001, warm_start=False)"
      ]
     },
     "execution_count": 15,
     "metadata": {},
     "output_type": "execute_result"
    }
   ],
   "source": [
    "lass = Lasso(alpha=0.15)\n",
    "lass.fit(x, y)"
   ]
  },
  {
   "cell_type": "code",
   "execution_count": 16,
   "metadata": {
    "collapsed": false
   },
   "outputs": [],
   "source": [
    "x_train, x_test, y_train, y_test = train_test_split(x, y, test_size=.25, random_state=50)"
   ]
  },
  {
   "cell_type": "code",
   "execution_count": 17,
   "metadata": {
    "collapsed": false
   },
   "outputs": [],
   "source": [
    "regr = linear_model.LinearRegression()"
   ]
  },
  {
   "cell_type": "code",
   "execution_count": 18,
   "metadata": {
    "collapsed": false
   },
   "outputs": [
    {
     "data": {
      "text/plain": [
       "LinearRegression(copy_X=True, fit_intercept=True, n_jobs=1, normalize=False)"
      ]
     },
     "execution_count": 18,
     "metadata": {},
     "output_type": "execute_result"
    }
   ],
   "source": [
    "regr.fit(x_train, y_train)"
   ]
  },
  {
   "cell_type": "code",
   "execution_count": 19,
   "metadata": {
    "collapsed": false
   },
   "outputs": [
    {
     "data": {
      "image/png": "[encoded data removed]",
      "text/plain": [
       "<matplotlib.figure.Figure at 0x1123f2c90>"
      ]
     },
     "metadata": {},
     "output_type": "display_data"
    }
   ],
   "source": [
    "plt.scatter(y_test, regr.predict(x_test), s=100)\n",
    "plt.show()"
   ]
  },
  {
   "cell_type": "code",
   "execution_count": 20,
   "metadata": {
    "collapsed": true
   },
   "outputs": [],
   "source": [
    "regr = linear_model.LinearRegression()"
   ]
  },
  {
   "cell_type": "code",
   "execution_count": 21,
   "metadata": {
    "collapsed": false
   },
   "outputs": [
    {
     "data": {
      "text/plain": [
       "LinearRegression(copy_X=True, fit_intercept=True, n_jobs=1, normalize=False)"
      ]
     },
     "execution_count": 21,
     "metadata": {},
     "output_type": "execute_result"
    }
   ],
   "source": [
    "regr.fit(x_train, y_train)"
   ]
  },
  {
   "cell_type": "code",
   "execution_count": 22,
   "metadata": {
    "collapsed": false
   },
   "outputs": [
    {
     "data": {
      "image/png": "[encoded data removed]",
      "text/plain": [
       "<matplotlib.figure.Figure at 0x11245e410>"
      ]
     },
     "metadata": {},
     "output_type": "display_data"
    }
   ],
   "source": [
    "plt.scatter(y_train, regr.predict(x_train), s=100)\n",
    "plt.show()"
   ]
  },
  {
   "cell_type": "markdown",
   "metadata": {},
   "source": [
    "###Since we have so many variables, this is a good candidate for regularization. In particular, since we'd like to eliminate a lot of them, lasso seems like a good candidate. Build a lasso model on your training data for various values of alpha. Which variables survive?"
   ]
  },
  {
   "cell_type": "code",
   "execution_count": 23,
   "metadata": {
    "collapsed": false
   },
   "outputs": [
    {
     "data": {
      "text/plain": [
       "Lasso(alpha=0.05, copy_X=True, fit_intercept=True, max_iter=1000,\n",
       "   normalize=False, positive=False, precompute=False, random_state=None,\n",
       "   selection='cyclic', tol=0.0001, warm_start=False)"
      ]
     },
     "execution_count": 23,
     "metadata": {},
     "output_type": "execute_result"
    }
   ],
   "source": [
    "lass = Lasso(alpha=.05)\n",
    "lass.fit(x_train, y_train)"
   ]
  },
  {
   "cell_type": "code",
   "execution_count": 24,
   "metadata": {
    "collapsed": false
   },
   "outputs": [
    {
     "data": {
      "text/plain": [
       "array([ 20.89469946,  18.90000105,  30.35533763,  71.86816123,  44.0053579 ])"
      ]
     },
     "execution_count": 24,
     "metadata": {},
     "output_type": "execute_result"
    }
   ],
   "source": [
    "lass.predict(x_train)[:5]"
   ]
  },
  {
   "cell_type": "code",
   "execution_count": 25,
   "metadata": {
    "collapsed": false
   },
   "outputs": [
    {
     "name": "stdout",
     "output_type": "stream",
     "text": [
      "Alpha=0.0934774487948 [ 21.29612178  19.54099782  30.85515209  69.68915034  39.7530986 ]\n",
      "Alpha=0.953997114916 [ 25.4211642   27.41692363  23.72234557  74.58497867  25.82440627]\n",
      "Alpha=0.323460388245 [ 26.19719427  24.78993801  30.21257022  74.4010893   30.68767499]\n",
      "Alpha=0.383138450322 [ 26.53215961  27.96709455  30.38543768  75.70976602  29.96232078]\n",
      "Alpha=0.62587034419 [ 26.29638592  27.71736777  27.97514763  76.8017092   26.5690516 ]\n",
      "Alpha=0.926774731508 [ 25.44529401  27.43747758  24.11070059  74.79308721  25.74192503]\n",
      "Alpha=0.110497158914 [ 21.62012489  19.81484349  31.21339748  69.24712403  38.07479847]\n",
      "Alpha=0.937515120799 [ 25.42446707  27.43146578  23.96265145  74.70422708  25.77048012]\n",
      "Alpha=0.386630629274 [ 26.55185851  27.96724374  30.4086295   75.76749042  29.90793626]\n",
      "Alpha=0.662323602123 [ 26.1806236   27.66141241  27.08313833  76.48928047  26.28146494]\n"
     ]
    }
   ],
   "source": [
    "for idx in range(10):\n",
    "    rand = random()\n",
    "    lass = Lasso(alpha=float(rand))\n",
    "    lass.fit(x_train, y_train)\n",
    "    print 'Alpha={}'.format(float(rand)), lass.predict(x_train)[:5]"
   ]
  },
  {
   "cell_type": "markdown",
   "metadata": {},
   "source": [
    "###How does this model perform on the test set?"
   ]
  },
  {
   "cell_type": "code",
   "execution_count": 26,
   "metadata": {
    "collapsed": false
   },
   "outputs": [
    {
     "data": {
      "text/plain": [
       "Lasso(alpha=0.5, copy_X=True, fit_intercept=True, max_iter=1000,\n",
       "   normalize=False, positive=False, precompute=False, random_state=None,\n",
       "   selection='cyclic', tol=0.0001, warm_start=False)"
      ]
     },
     "execution_count": 26,
     "metadata": {},
     "output_type": "execute_result"
    }
   ],
   "source": [
    "lass = Lasso(alpha=.5)\n",
    "lass.fit(x_test, y_test)"
   ]
  },
  {
   "cell_type": "code",
   "execution_count": 27,
   "metadata": {
    "collapsed": false
   },
   "outputs": [
    {
     "data": {
      "text/plain": [
       "array([ 34.03367212,  28.0498293 ,  32.90781279,  29.92721137,  34.1245916 ])"
      ]
     },
     "execution_count": 27,
     "metadata": {},
     "output_type": "execute_result"
    }
   ],
   "source": [
    "lass.predict(x_train)[:5]"
   ]
  },
  {
   "cell_type": "code",
   "execution_count": 28,
   "metadata": {
    "collapsed": false
   },
   "outputs": [
    {
     "name": "stdout",
     "output_type": "stream",
     "text": [
      "Alpha=0.234180777382 [ 39.16844085  22.561077    37.02005717  36.29822325  36.60044656]\n",
      "Alpha=0.29937652105 [ 37.8485501   23.9770836   36.10760979  36.25143858  36.09271094]\n",
      "Alpha=0.247051722853 [ 38.90785956  22.79405244  36.6738211   36.53528589  36.55070672]\n",
      "Alpha=0.726347445867 [ 29.59526575  30.57750264  24.58979513  18.30441546  31.9738929 ]\n",
      "Alpha=0.139480070485 [ 41.45481156  19.91011544  40.19384977  33.85730937  36.70826058]\n",
      "Alpha=0.90608580252 [ 28.28708846  30.89991499  21.65852596  16.54226175  31.36023675]\n",
      "Alpha=0.00397002718739 [  53.81462073    4.22408292   20.34761172   89.87288624  129.37581042]\n",
      "Alpha=0.946227825969 [ 28.02837377  30.89489169  21.20026762  16.30500873  31.41567473]\n",
      "Alpha=0.186766403056 [ 40.22726615  21.51179847  37.90638883  35.22037434  36.32396344]\n",
      "Alpha=0.478697170815 [ 34.4465569   27.87449058  33.8216482   31.43663553  34.28400979]\n"
     ]
    },
    {
     "name": "stderr",
     "output_type": "stream",
     "text": [
      "/Users/jimgrant/.virtualenvs/bikeshare/lib/python2.7/site-packages/sklearn/linear_model/coordinate_descent.py:444: ConvergenceWarning: Objective did not converge. You might want to increase the number of iterations\n",
      "  ConvergenceWarning)\n"
     ]
    }
   ],
   "source": [
    "for idx in range(10):\n",
    "    rand = random()\n",
    "    lass = Lasso(alpha=float(rand))\n",
    "    lass.fit(x_test, y_test)\n",
    "    print 'Alpha={}'.format(float(rand)), lass.predict(x_train)[:5]"
   ]
  },
  {
   "cell_type": "markdown",
   "metadata": {},
   "source": [
    "####I honestly have little idea what's happening above here... I also have no idea how to get the data below into a simple linear regression....\n",
    "\n",
    "###No matter how high I make alpha, the coefficient on crossing (\"number of nearby crosswalks\") never goes away. Try a simple linear regression on just that variable."
   ]
  },
  {
   "cell_type": "code",
   "execution_count": 45,
   "metadata": {
    "collapsed": false
   },
   "outputs": [
    {
     "data": {
      "text/plain": [
       "LinearRegression(copy_X=True, fit_intercept=True, n_jobs=1, normalize=False)"
      ]
     },
     "execution_count": 45,
     "metadata": {},
     "output_type": "execute_result"
    }
   ],
   "source": [
    "x = avg_station[list(avg_station.columns.values[111:112])]\n",
    "y = avg_station[list(avg_station.columns.values[1:2])]\n",
    "regr = linear_model.LinearRegression()\n",
    "regr.fit(x, y)"
   ]
  },
  {
   "cell_type": "code",
   "execution_count": 46,
   "metadata": {
    "collapsed": false
   },
   "outputs": [
    {
     "data": {
      "image/png": "[encoded data removed]",
      "text/plain": [
       "<matplotlib.figure.Figure at 0x1126a8290>"
      ]
     },
     "metadata": {},
     "output_type": "display_data"
    }
   ],
   "source": [
    "plt.scatter(y, regr.predict(x), s=100)\n",
    "plt.show()"
   ]
  },
  {
   "cell_type": "code",
   "execution_count": null,
   "metadata": {
    "collapsed": true
   },
   "outputs": [],
   "source": []
  }
 ],
 "metadata": {
  "kernelspec": {
   "display_name": "Python 2",
   "language": "python",
   "name": "python2"
  },
  "language_info": {
   "codemirror_mode": {
    "name": "ipython",
    "version": 2
   },
   "file_extension": ".py",
   "mimetype": "text/x-python",
   "name": "python",
   "nbconvert_exporter": "python",
   "pygments_lexer": "ipython2",
   "version": "2.7.2"
  }
 },
 "nbformat": 4,
 "nbformat_minor": 0
}
